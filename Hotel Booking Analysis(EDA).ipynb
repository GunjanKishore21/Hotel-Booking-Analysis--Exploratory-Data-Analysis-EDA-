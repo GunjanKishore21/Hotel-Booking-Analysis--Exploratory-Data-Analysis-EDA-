{
  "nbformat": 4,
  "nbformat_minor": 0,
  "metadata": {
    "colab": {
      "private_outputs": true,
      "provenance": [],
      "collapsed_sections": [
        "vncDsAP0Gaoa",
        "FJNUwmbgGyua",
        "w6K7xa23Elo4",
        "yQaldy8SH6Dl",
        "PH-0ReGfmX4f",
        "mDgbUHAGgjLW",
        "O_i_v8NEhb9l",
        "HhfV-JJviCcP",
        "Y3lxredqlCYt",
        "3RnN4peoiCZX",
        "x71ZqKXriCWQ",
        "7hBIi_osiCS2",
        "JlHwYmJAmNHm",
        "35m5QtbWiB9F",
        "PoPl-ycgm1ru",
        "H0kj-8xxnORC",
        "nA9Y7ga8ng1Z",
        "PBTbrJXOngz2",
        "u3PMJOP6ngxN",
        "dauF4eBmngu3",
        "bKJF3rekwFvQ",
        "MSa1f5Uengrz",
        "GF8Ens_Soomf",
        "0wOQAZs5pc--",
        "K5QZ13OEpz2H",
        "lQ7QKXXCp7Bj",
        "448CDAPjqfQr",
        "KSlN3yHqYklG",
        "t6dVpIINYklI",
        "ijmpgYnKYklI",
        "-JiQyfWJYklI",
        "EM7whBJCYoAo",
        "fge-S5ZAYoAp",
        "85gYPyotYoAp",
        "RoGjAbkUYoAp",
        "4Of9eVA-YrdM",
        "iky9q4vBYrdO",
        "F6T5p64dYrdO",
        "y-Ehk30pYrdP",
        "bamQiAODYuh1",
        "QHF8YVU7Yuh3",
        "GwzvFGzlYuh3",
        "qYpmQ266Yuh3",
        "OH-pJp9IphqM",
        "bbFf2-_FphqN",
        "_ouA3fa0phqN",
        "Seke61FWphqN",
        "PIIx-8_IphqN",
        "t27r6nlMphqO",
        "r2jJGEOYphqO",
        "b0JNsNcRphqO",
        "BZR9WyysphqO",
        "jj7wYXLtphqO",
        "eZrbJ2SmphqO",
        "rFu4xreNphqO",
        "YJ55k-q6phqO",
        "gCFgpxoyphqP",
        "OVtJsKN_phqQ",
        "lssrdh5qphqQ",
        "U2RJ9gkRphqQ",
        "1M8mcRywphqQ",
        "tgIPom80phqQ",
        "JMzcOPDDphqR",
        "x-EpHcCOp1ci",
        "X_VqEhTip1ck",
        "8zGJKyg5p1ck",
        "PVzmfK_Ep1ck",
        "n3dbpmDWp1ck",
        "ylSl6qgtp1ck",
        "ZWILFDl5p1ck",
        "M7G43BXep1ck",
        "Ag9LCva-p1cl",
        "E6MkPsBcp1cl",
        "2cELzS2fp1cl",
        "3MPXvC8up1cl",
        "NC_X3p0fY2L0",
        "UV0SzAkaZNRQ",
        "YPEH6qLeZNRQ",
        "q29F0dvdveiT",
        "EXh0U9oCveiU",
        "22aHeOlLveiV",
        "JcMwzZxoAimU",
        "8G2x9gOozGDZ",
        "gCX9965dhzqZ",
        "gIfDvo9L0UH2"
      ],
      "include_colab_link": true
    },
    "kernelspec": {
      "name": "python3",
      "display_name": "Python 3"
    },
    "language_info": {
      "name": "python"
    }
  },
  "cells": [
    {
      "cell_type": "markdown",
      "metadata": {
        "id": "view-in-github",
        "colab_type": "text"
      },
      "source": [
        "<a href=\"https://colab.research.google.com/github/GunjanKishore21/Data-Analysis-for-Hotel-Bookings/blob/main/eda_copy2.ipynb\" target=\"_parent\"><img src=\"https://colab.research.google.com/assets/colab-badge.svg\" alt=\"Open In Colab\"/></a>"
      ]
    },
    {
      "cell_type": "markdown",
      "source": [
        "# **Project Name   - Hotel Booking Analysis**\n",
        "\n",
        "\n",
        "\n"
      ],
      "metadata": {
        "id": "vncDsAP0Gaoa"
      }
    },
    {
      "cell_type": "markdown",
      "source": [
        "##### **Project Type   - EDA**\n",
        "##### **Contribution    - Individual**\n",
        "##### **Name- Gunjan Kishore**"
      ],
      "metadata": {
        "id": "beRrZCGUAJYm"
      }
    },
    {
      "cell_type": "markdown",
      "source": [
        "# **Project Summary -**"
      ],
      "metadata": {
        "id": "FJNUwmbgGyua"
      }
    },
    {
      "cell_type": "markdown",
      "source": [
        "**This project aims to perform Exploratory Data Analysis(EDA) on a dataset of hotel booking which containing information about the booking pattern,cancellation rate,customer preferences and behaviour and other relevant factors.By conducting We have to identify the insights from it that can be useful in decision making,improve customer experience and optimise hotel management strategies.**\n",
        "\n",
        "\n",
        "\n"
      ],
      "metadata": {
        "id": "F6v_1wHtG2nS"
      }
    },
    {
      "cell_type": "markdown",
      "source": [
        "# **GitHub Link -**"
      ],
      "metadata": {
        "id": "w6K7xa23Elo4"
      }
    },
    {
      "cell_type": "markdown",
      "source": [
        "Provide your GitHub Link here."
      ],
      "metadata": {
        "id": "h1o69JH3Eqqn"
      }
    },
    {
      "cell_type": "markdown",
      "source": [
        "# **Problem Statement**\n"
      ],
      "metadata": {
        "id": "yQaldy8SH6Dl"
      }
    },
    {
      "cell_type": "markdown",
      "source": [
        "* Cleaning data by handling missing values,duplicates,data type inconsistencies and any other data related issue.\n",
        "* Visualize the cleaned data to gain insights from them into booking patterns ,preferences in room type,market segment and other relevant factors.\n",
        "* Generate visualization (like barplot,countplot,pieplot) to show the relation between the different variables.\n",
        "* Identify the pattern or trend from the data that could be useful for business prospective."
      ],
      "metadata": {
        "id": "DpeJGUA3kjGy"
      }
    },
    {
      "cell_type": "markdown",
      "source": [
        "#### **Define Your Business Objective?**"
      ],
      "metadata": {
        "id": "PH-0ReGfmX4f"
      }
    },
    {
      "cell_type": "markdown",
      "source": [
        "\n",
        "* Enhancing Customer Experience: Improving customer satisfaction by understanding customer preferences, such as room types, amenities, and booking channels, and tailoring services accordingly.\n",
        "\n",
        "* Reducing Cancellations: Minimizing booking cancellations by analyzing cancellation patterns, implementing flexible policies, and offering incentives to encourage customers to keep their bookings.\n",
        "\n",
        "* Increasing Market Share: Expanding market share by identifying key market segments, targeting specific customer groups, and developing marketing campaigns to attract new customers.\n",
        "\n",
        "* Optimizing Operations: Streamlining operations by analyzing booking trends, optimizing staff allocation, and improving inventory management to reduce costs and enhance efficiency.\n",
        "\n",
        "* Managing Seasonality: Managing seasonality by understanding peak booking periods, adjusting pricing and marketing strategies accordingly, and offering promotions during off-peak times to maintain a steady flow of bookings.\n",
        "\n",
        "* Competitive Analysis: Monitoring competitor performance, pricing strategies, and customer reviews to stay competitive and identify opportunities for improvement.\n",
        "\n",
        "* Sustainability Initiatives: Implementing sustainability initiatives, such as energy-efficient practices and waste reduction programs, to appeal to environmentally conscious customers and reduce operational costs."
      ],
      "metadata": {
        "id": "PhDvGCAqmjP1"
      }
    },
    {
      "cell_type": "markdown",
      "source": [
        "# **General Guidelines** : -  "
      ],
      "metadata": {
        "id": "mDgbUHAGgjLW"
      }
    },
    {
      "cell_type": "markdown",
      "source": [
        "1.   Well-structured, formatted, and commented code is required.\n",
        "2.   Exception Handling, Production Grade Code & Deployment Ready Code will be a plus. Those students will be awarded some additional credits.\n",
        "     \n",
        "     The additional credits will have advantages over other students during Star Student selection.\n",
        "       \n",
        "             [ Note: - Deployment Ready Code is defined as, the whole .ipynb notebook should be executable in one go\n",
        "                       without a single error logged. ]\n",
        "\n",
        "3.   Each and every logic should have proper comments.\n",
        "4. You may add as many number of charts you want. Make Sure for each and every chart the following format should be answered.\n",
        "        \n",
        "\n",
        "```\n",
        "# Chart visualization code\n",
        "```\n",
        "            \n",
        "\n",
        "*   Why did you pick the specific chart?\n",
        "*   What is/are the insight(s) found from the chart?\n",
        "* Will the gained insights help creating a positive business impact?\n",
        "Are there any insights that lead to negative growth? Justify with specific reason.\n",
        "\n",
        "5. You have to create at least 20 logical & meaningful charts having important insights.\n",
        "\n",
        "\n",
        "[ Hints : - Do the Vizualization in  a structured way while following \"UBM\" Rule.\n",
        "\n",
        "U - Univariate Analysis,\n",
        "\n",
        "B - Bivariate Analysis (Numerical - Categorical, Numerical - Numerical, Categorical - Categorical)\n",
        "\n",
        "M - Multivariate Analysis\n",
        " ]\n",
        "\n",
        "\n",
        "\n"
      ],
      "metadata": {
        "id": "ZrxVaUj-hHfC"
      }
    },
    {
      "cell_type": "markdown",
      "source": [
        "# ***Let's Begin !***"
      ],
      "metadata": {
        "id": "O_i_v8NEhb9l"
      }
    },
    {
      "cell_type": "markdown",
      "source": [
        "## ***1. Know Your Data***"
      ],
      "metadata": {
        "id": "HhfV-JJviCcP"
      }
    },
    {
      "cell_type": "markdown",
      "source": [
        "### Import Libraries"
      ],
      "metadata": {
        "id": "Y3lxredqlCYt"
      }
    },
    {
      "cell_type": "code",
      "source": [
        "# Import Libraries\n",
        "import pandas as pd\n",
        "import numpy as np\n",
        "import matplotlib.pyplot as plt\n",
        "import seaborn as sns\n"
      ],
      "metadata": {
        "id": "M8Vqi-pPk-HR"
      },
      "execution_count": null,
      "outputs": []
    },
    {
      "cell_type": "markdown",
      "source": [
        "### Dataset Loading"
      ],
      "metadata": {
        "id": "3RnN4peoiCZX"
      }
    },
    {
      "cell_type": "code",
      "source": [
        "# Load Dataset\n",
        "df=pd.read_csv(\"Hotel Bookings (1).csv\")"
      ],
      "metadata": {
        "id": "4CkvbW_SlZ_R"
      },
      "execution_count": null,
      "outputs": []
    },
    {
      "cell_type": "markdown",
      "source": [
        "### Dataset First View"
      ],
      "metadata": {
        "id": "x71ZqKXriCWQ"
      }
    },
    {
      "cell_type": "code",
      "source": [
        "# Dataset First Look\n",
        "df.head()"
      ],
      "metadata": {
        "id": "LWNFOSvLl09H"
      },
      "execution_count": null,
      "outputs": []
    },
    {
      "cell_type": "markdown",
      "source": [
        "### Dataset Rows & Columns count"
      ],
      "metadata": {
        "id": "7hBIi_osiCS2"
      }
    },
    {
      "cell_type": "code",
      "source": [
        "# Dataset Rows & Columns count\n",
        "df.shape"
      ],
      "metadata": {
        "id": "Kllu7SJgmLij"
      },
      "execution_count": null,
      "outputs": []
    },
    {
      "cell_type": "markdown",
      "source": [
        "### Dataset Information"
      ],
      "metadata": {
        "id": "JlHwYmJAmNHm"
      }
    },
    {
      "cell_type": "code",
      "source": [
        "# Dataset Info\n",
        "df.info()"
      ],
      "metadata": {
        "id": "e9hRXRi6meOf"
      },
      "execution_count": null,
      "outputs": []
    },
    {
      "cell_type": "markdown",
      "source": [
        "#### Duplicate Values"
      ],
      "metadata": {
        "id": "35m5QtbWiB9F"
      }
    },
    {
      "cell_type": "code",
      "source": [
        "# Dataset Duplicate Value Count\n",
        "df1=df[df.duplicated()]\n",
        "len(df1)"
      ],
      "metadata": {
        "id": "1sLdpKYkmox0"
      },
      "execution_count": null,
      "outputs": []
    },
    {
      "cell_type": "markdown",
      "source": [
        "#### Missing Values/Null Values"
      ],
      "metadata": {
        "id": "PoPl-ycgm1ru"
      }
    },
    {
      "cell_type": "code",
      "source": [
        "# Missing Values/Null Values Count\n",
        "df.isnull().sum()"
      ],
      "metadata": {
        "id": "GgHWkxvamxVg"
      },
      "execution_count": null,
      "outputs": []
    },
    {
      "cell_type": "code",
      "source": [
        "# Visualizing the missing values(chart-1)\n",
        "sns.heatmap(df.isnull(),cbar=False)\n",
        "plt.show()"
      ],
      "metadata": {
        "id": "3q5wnI3om9sJ"
      },
      "execution_count": null,
      "outputs": []
    },
    {
      "cell_type": "code",
      "source": [
        "# Visualizing the missing values(chart-2)\n",
        "sns.barplot(df.isnull())\n",
        "plt.xticks(rotation=90)\n",
        "plt.show()"
      ],
      "metadata": {
        "id": "THV6ZWirWcgq"
      },
      "execution_count": null,
      "outputs": []
    },
    {
      "cell_type": "markdown",
      "source": [
        "### What did you know about your dataset?"
      ],
      "metadata": {
        "id": "H0kj-8xxnORC"
      }
    },
    {
      "cell_type": "markdown",
      "source": [
        "\n",
        "\n",
        "\n",
        "-This is the data set about hotel bookings which has (119390, 32) rows and columns.\n",
        "\n",
        "*   Total no. of duplicated values in data set is=31994\n",
        "*   Total no. of missing or null values is :-\n",
        "\n",
        "> country =488\n",
        "\n",
        "> children=4\n",
        "\n",
        "> agent=16340\n",
        "\n",
        "> company=112593\n",
        "\n",
        "* Dataset includes of int,float,object(string) data types\n",
        "*There is incorrect datatype in the  columns(reservation_status_date) of the dataset.\n",
        "\n",
        "\n",
        "\n",
        "\n",
        "\n",
        "\n",
        "\n",
        "\n",
        "\n",
        "\n",
        "\n",
        "\n",
        "\n",
        "\n",
        "-"
      ],
      "metadata": {
        "id": "gfoNAAC-nUe_"
      }
    },
    {
      "cell_type": "markdown",
      "source": [
        "## ***2. Understanding Your Variables***"
      ],
      "metadata": {
        "id": "nA9Y7ga8ng1Z"
      }
    },
    {
      "cell_type": "code",
      "source": [
        "# Dataset Columns\n",
        "columns=df.columns\n",
        "columns"
      ],
      "metadata": {
        "id": "j7xfkqrt5Ag5"
      },
      "execution_count": null,
      "outputs": []
    },
    {
      "cell_type": "code",
      "source": [
        "# Dataset Describe\n",
        "df.describe(include='all').T"
      ],
      "metadata": {
        "id": "DnOaZdaE5Q5t"
      },
      "execution_count": null,
      "outputs": []
    },
    {
      "cell_type": "markdown",
      "source": [
        "### Variables Description"
      ],
      "metadata": {
        "id": "PBTbrJXOngz2"
      }
    },
    {
      "cell_type": "markdown",
      "source": [
        "**Hotel**--->          H1=Resort hotel,H2=City hotel\n",
        "\n",
        "**is_cancelled**--->   if the booking was cancelled(1) or not(0)\n",
        "\n",
        "**lead_time**-->      Numbers of days that elapsed between the entering date of the booking into PMS and arrival date\n",
        "\n",
        "**arrival_date_year**--> Year of arrival date\n",
        "\n",
        "**arrival_date_month**--> Month of arrival date\n",
        "\n",
        "**arrival_date_week_number**-->Week number of arrival date\n",
        "\n",
        "**arrval_date_day_of_the_month**-->Day of arrival date\n",
        "\n",
        "**stays_in_weekend_nights**-->Number of weekend nights(saturday or sunday)the guest stayed or booked to stay at the hotel\n",
        "\n",
        "**stays_in_week_nights**-->Number of week nights(monday to friday)the guest stayed or booked to stay at the hotel\n",
        "\n",
        "**adults**-->Number of adults\n",
        "\n",
        "**children**--> Number of children\n",
        "\n",
        "**babies**--> Number of babies\n",
        "\n",
        "**meal**--> kind of meal opted for\n",
        "\n",
        "**country**--> Country code\n",
        "\n",
        "**market_segment**--> Which segment the customer belongs to\n",
        "\n",
        "**distribution_channel**--> How the customer accessed the stay-corperate booking/direct/TA.TO\n",
        "\n",
        "**is_repeated_guest**--> Guest coming for first time or not\n",
        "\n",
        "**previous_cancellation**-->Was there a cancellation before\n",
        "\n",
        "**previous_bookings_not_canceled**-->Count of previous bookings\n",
        "\n",
        "**reserved_room_type**--> Type of room reserved\n",
        "\n",
        "**assigned_room_type**--> Type of room assigned\n",
        "\n",
        "**booking_changes**--> Count of changes made to booking\n",
        "\n",
        "**deposit_type**--> Deposit type\n",
        "\n",
        "**agent**--> Booked through agent\n",
        "\n",
        "**company**-->The company that made the number of bookings by company ID\n",
        "\n",
        "**days_in_waiting_list**-->Number of days in waiting list\n",
        "\n",
        "**customer_type**--> Type of customer\n",
        "\n",
        "**adr**-->Average daily rate\n",
        "\n",
        "**required_car_parking**--> if car parking is required\n",
        "\n",
        "**total_of_special_requests**-->Number of additional special requirements\n",
        "\n",
        "**reservation_status**--> Reservation of status\n",
        "\n",
        "**reservation_status_date**-->Date of the specific status\n"
      ],
      "metadata": {
        "id": "aJV4KIxSnxay"
      }
    },
    {
      "cell_type": "markdown",
      "source": [
        "### Check Unique Values for each variable."
      ],
      "metadata": {
        "id": "u3PMJOP6ngxN"
      }
    },
    {
      "cell_type": "code",
      "source": [
        "# Check Unique Values for each variable.\n",
        "col=df.columns.tolist()                                                 # making a list of all column names of dataset.\n",
        "for i in col:                                                           #iteration over list(i.e col)\n",
        " print(\"No. of unique values in \",i,\"is-\",df[i].nunique())\n",
        "                                                                        #nunique=count the number of unique value in a column of dataset(df)."
      ],
      "metadata": {
        "id": "zms12Yq5n-jE"
      },
      "execution_count": null,
      "outputs": []
    },
    {
      "cell_type": "code",
      "source": [
        "col=df.columns.tolist()\n",
        "for j in col:\n",
        "  print(f\"Unique value in {j}:{df[j].unique()}\")\n",
        "  print('—'*100)"
      ],
      "metadata": {
        "id": "M8QoNFTIugbW"
      },
      "execution_count": null,
      "outputs": []
    },
    {
      "cell_type": "markdown",
      "source": [
        "## 3. ***Data Wrangling***"
      ],
      "metadata": {
        "id": "dauF4eBmngu3"
      }
    },
    {
      "cell_type": "markdown",
      "source": [
        "### Data Wrangling Code"
      ],
      "metadata": {
        "id": "bKJF3rekwFvQ"
      }
    },
    {
      "cell_type": "code",
      "source": [
        "# Write your code to make your dataset analysis ready.\n",
        "# creating a copy of dataset.\n",
        "newdf=df.copy()\n",
        "newdf.head()"
      ],
      "metadata": {
        "id": "wk-9a2fpoLcV"
      },
      "execution_count": null,
      "outputs": []
    },
    {
      "cell_type": "code",
      "source": [
        "#Dropping all the duplicates values from the dataset.\n",
        "\n",
        "newdf.drop_duplicates(inplace=True)"
      ],
      "metadata": {
        "id": "GkqNJXaDeP10"
      },
      "execution_count": null,
      "outputs": []
    },
    {
      "cell_type": "code",
      "source": [
        "#Checking shape of dataset after dropping duplicates.\n",
        "\n",
        "newdf.shape"
      ],
      "metadata": {
        "id": "_sZjFzExePyn"
      },
      "execution_count": null,
      "outputs": []
    },
    {
      "cell_type": "code",
      "source": [
        "#Dropping column[agent,company] that is columns having maximum missing values.\n",
        "\n",
        "newdf.drop(['agent','company'],axis=1,inplace=True)"
      ],
      "metadata": {
        "id": "nuekiTyjePvk"
      },
      "execution_count": null,
      "outputs": []
    },
    {
      "cell_type": "code",
      "source": [
        "#Checking columns\n",
        "print(newdf.columns)"
      ],
      "metadata": {
        "id": "LMyNAUiAePsj"
      },
      "execution_count": null,
      "outputs": []
    },
    {
      "cell_type": "code",
      "source": [
        "#Dropping all the null and NaN values.\n",
        "\n",
        "newdf.dropna(inplace=True)\n"
      ],
      "metadata": {
        "id": "SMXxDVpmePbV"
      },
      "execution_count": null,
      "outputs": []
    },
    {
      "cell_type": "code",
      "source": [
        "#Checking for Null values\n",
        "\n",
        "newdf.isnull().sum()"
      ],
      "metadata": {
        "id": "AELdmFTtjPCU"
      },
      "execution_count": null,
      "outputs": []
    },
    {
      "cell_type": "code",
      "source": [
        "sns.heatmap(newdf.isna())"
      ],
      "metadata": {
        "id": "JnLdmUMjuLIu"
      },
      "execution_count": null,
      "outputs": []
    },
    {
      "cell_type": "code",
      "source": [
        "# change the datatype\n",
        "newdf['reservation_status_date']=pd.to_datetime(newdf['reservation_status_date'])\n"
      ],
      "metadata": {
        "id": "A7xatFfRxzjV"
      },
      "execution_count": null,
      "outputs": []
    },
    {
      "cell_type": "code",
      "source": [
        "newdf.info()"
      ],
      "metadata": {
        "id": "EqZffhUvy7HB"
      },
      "execution_count": null,
      "outputs": []
    },
    {
      "cell_type": "code",
      "source": [
        "#checking for outliers\n",
        "\n",
        "for out in newdf.columns:\n",
        "  sns.boxplot(newdf[out])\n",
        "  plt.xticks(rotation=90)\n",
        "  plt.figure(figsize=(0.1,0.2))\n",
        "  plt.show()"
      ],
      "metadata": {
        "id": "5izqySc23zGr"
      },
      "execution_count": null,
      "outputs": []
    },
    {
      "cell_type": "code",
      "source": [
        "newdf=newdf[newdf['adults']<50]\n",
        "newdf=newdf[newdf['children']<10]\n",
        "newdf=newdf[newdf['babies']<9]\n",
        "newdf=newdf[newdf['days_in_waiting_list']<350]\n",
        "newdf=newdf[newdf['adr']<5000]\n",
        "newdf=newdf[newdf['lead_time']<700]\n"
      ],
      "metadata": {
        "id": "qvZEOZx43zDo"
      },
      "execution_count": null,
      "outputs": []
    },
    {
      "cell_type": "code",
      "source": [
        "newdf.info()"
      ],
      "metadata": {
        "id": "XtgFxE853y_9"
      },
      "execution_count": null,
      "outputs": []
    },
    {
      "cell_type": "markdown",
      "source": [
        "### What all manipulations have you done and insights you found?"
      ],
      "metadata": {
        "id": "MSa1f5Uengrz"
      }
    },
    {
      "cell_type": "markdown",
      "source": [
        "Answer Here.\n",
        "\n",
        "\n",
        "* There are some duplicates in the dataset so we had removed them.\n",
        "\n",
        "* There are excessive missing values in some columns(agents,company),so we also drop them.\n",
        "* Also removed the NAN/NULL values from the dataset.\n",
        "\n",
        "\n",
        "* Checked the outliers through boxplot and also removed them.\n",
        "\n",
        "\n",
        "\n"
      ],
      "metadata": {
        "id": "LbyXE7I1olp8"
      }
    },
    {
      "cell_type": "markdown",
      "source": [
        "## ***4. Data Vizualization, Storytelling & Experimenting with charts : Understand the relationships between variables***"
      ],
      "metadata": {
        "id": "GF8Ens_Soomf"
      }
    },
    {
      "cell_type": "markdown",
      "source": [
        "#(Chart-1) Let see what is the average lead time in hotel?\n"
      ],
      "metadata": {
        "id": "0wOQAZs5pc--"
      }
    },
    {
      "cell_type": "code",
      "source": [
        "sns.barplot(x=newdf['arrival_date_year'],y=newdf['lead_time'],hue=newdf['hotel'],palette=['olive','cyan'])\n",
        "plt.title(\"Average Lead time per year in different hotels\")\n",
        "plt.show()"
      ],
      "metadata": {
        "id": "WLhMP841Ds1B"
      },
      "execution_count": null,
      "outputs": []
    },
    {
      "cell_type": "markdown",
      "source": [
        "##### 1. Why did you pick the specific chart?"
      ],
      "metadata": {
        "id": "K5QZ13OEpz2H"
      }
    },
    {
      "cell_type": "markdown",
      "source": [
        "***--Bar plots are excellent for comparing values between two different categorical data or groups.It visualize the average lead time between the two hotel i.e city hotel and resort hotel per year in the form of bars.***\n",
        "***\n",
        "***The lenght of bar indicates the average lead time per year of the two hotels.This plot is simple and easy to understand by wide range of audience without any detail explanation.***\n",
        "\n",
        "\n",
        "\n",
        "\n",
        "\n",
        "\n",
        "\n",
        "\n",
        "\n"
      ],
      "metadata": {
        "id": "XESiWehPqBRc"
      }
    },
    {
      "cell_type": "markdown",
      "source": [
        "##### 2. What is/are the insight(s) found from the chart?"
      ],
      "metadata": {
        "id": "lQ7QKXXCp7Bj"
      }
    },
    {
      "cell_type": "markdown",
      "source": [
        "***We found that the average lead time of resort hotel is larger than city hotel and its getting increases every year where it is maximum in 2017.***\n",
        "***\n",
        "***We also visualize that the gap/difference between the bars(average lead time) of the two hotels getting reduce in every year.It was earlier maximum in 2015 but gets minimum upto 2017,but still resort hotel has large than city hotel.***\n",
        "***\n",
        "***The decreasing gap between the lead times of resort hotels and city hotels could indicate a shift in customer booking patterns. It may suggest that customers are increasingly booking city hotels further in advance, possibly due to changing travel preferences or improved marketing strategies targeting city hotels.***"
      ],
      "metadata": {
        "id": "C_j1G7yiqdRP"
      }
    },
    {
      "cell_type": "markdown",
      "source": [
        "##### 3. Will the gained insights help creating a positive business impact?\n",
        "Are there any insights that lead to negative growth? Justify with specific reason."
      ],
      "metadata": {
        "id": "448CDAPjqfQr"
      }
    },
    {
      "cell_type": "markdown",
      "source": [
        "***--A larger lead time for the resort hotel could indicate that customers are booking their stays further in advance, possibly due to high demand or limited availability. While this may suggest that the resort hotel is popular and in demand, it could also lead to increased customer satisfaction issues if guests prefer shorter lead times or encounter difficulty securing reservations.***\n",
        "***\n",
        "***If the gap between the lead times of the resort hotel and the city hotel is decreasing over time, it may suggest that the resort hotel is becoming more efficient in managing bookings and optimizing revenue. This could lead to better revenue performance for the business overall.***"
      ],
      "metadata": {
        "id": "3cspy4FjqxJW"
      }
    },
    {
      "cell_type": "markdown",
      "source": [
        "\n",
        "\n",
        "#(Chart-2) Which hotel is mostly peferred by the people?\n",
        "\n"
      ],
      "metadata": {
        "id": "KSlN3yHqYklG"
      }
    },
    {
      "cell_type": "code",
      "source": [
        "# Chart - 2 visualization code\n",
        "# Count the number of hotels in each category\n",
        "hotel_counts = newdf['hotel'].value_counts()\n",
        "hotel_counts"
      ],
      "metadata": {
        "id": "R4YgtaqtYklH"
      },
      "execution_count": null,
      "outputs": []
    },
    {
      "cell_type": "code",
      "source": [
        "# Create a pie chart\n",
        "plt.pie(hotel_counts, labels=hotel_counts.index, autopct='%1.1f%%')\n",
        "plt.title('Most Preferred Hotel')\n",
        "plt.show()"
      ],
      "metadata": {
        "id": "ghgOULvzegNq"
      },
      "execution_count": null,
      "outputs": []
    },
    {
      "cell_type": "markdown",
      "source": [
        "##### 1. Why did you pick the specific chart?"
      ],
      "metadata": {
        "id": "t6dVpIINYklI"
      }
    },
    {
      "cell_type": "markdown",
      "source": [
        "\n",
        "***--Pie chart help us to see the proportion of data i.e City Hotel(61.4%),Resort Hotel(38.6%) and it is effective for categorical data.It is a circular plot which indicates the overall data where the different portion in the plot show the proportion of that specific data.***"
      ],
      "metadata": {
        "id": "5aaW0BYyYklI"
      }
    },
    {
      "cell_type": "markdown",
      "source": [
        "##### 2. What is/are the insight(s) found from the chart?"
      ],
      "metadata": {
        "id": "ijmpgYnKYklI"
      }
    },
    {
      "cell_type": "markdown",
      "source": [
        "\n",
        "***From the above chart,we can see that most of the people prefer city hotel than resort one i.e 61.4% customer prefer the city hotel.***\n",
        "***\n",
        "***City hotels are typically located in urban areas with easy access to attractions, restaurants, and public transportation. This insight could indicate that customers prefer the convenience and cultural experiences offered by city locations.***\n",
        "***\n",
        "\n",
        "***Preference for city hotels over resort hotels may vary seasonally. For example, city hotels may be more popular during business travel seasons or cultural events, while resort hotels may be preferred during leisure travel seasons.***\n",
        "\n",
        "***"
      ],
      "metadata": {
        "id": "PSx9atu2YklI"
      }
    },
    {
      "cell_type": "markdown",
      "source": [
        "##### 3. Will the gained insights help creating a positive business impact?\n",
        "Are there any insights that lead to negative growth? Justify with specific reason."
      ],
      "metadata": {
        "id": "-JiQyfWJYklI"
      }
    },
    {
      "cell_type": "markdown",
      "source": [
        "\n",
        "***So,From this insight we clearly see that most of the people prefer city hotel than resort hotel,so we can plan and strategize keeping insights  in the mind for the future use.As more people preferring city hotel it might needed a efficient management,good staffs,more cleaniness so that it hold its position in competitive markets.***"
      ],
      "metadata": {
        "id": "BcBbebzrYklV"
      }
    },
    {
      "cell_type": "markdown",
      "source": [
        "# (Chart - 3) Proportion of cancellation"
      ],
      "metadata": {
        "id": "EM7whBJCYoAo"
      }
    },
    {
      "cell_type": "code",
      "source": [
        "# Chart - 3 visualization code\n",
        "cancel=newdf['is_canceled'].value_counts()\n",
        "plt.pie(cancel,labels=['Not cancelled','Cancelled'],autopct='%1.2f%%',colors=['pink','lightblue'])\n",
        "plt.title(\"Proportion of cancellation \")\n",
        "plt.show()\n"
      ],
      "metadata": {
        "id": "t6GMdE67YoAp"
      },
      "execution_count": null,
      "outputs": []
    },
    {
      "cell_type": "markdown",
      "source": [
        "##### 1. Why did you pick the specific chart?"
      ],
      "metadata": {
        "id": "fge-S5ZAYoAp"
      }
    },
    {
      "cell_type": "markdown",
      "source": [
        "***--Pie chart can be  suitable choice for this dataset as they are effective for showing the proportion of each category in the dataset.It is a circular form of plot in which the different category of categorical data represented by a proportion of the plot.***"
      ],
      "metadata": {
        "id": "5dBItgRVYoAp"
      }
    },
    {
      "cell_type": "markdown",
      "source": [
        "##### 2. What is/are the insight(s) found from the chart?"
      ],
      "metadata": {
        "id": "85gYPyotYoAp"
      }
    },
    {
      "cell_type": "markdown",
      "source": [
        "***--From this chart we clearly see that 27.58% of booking were cancelled while the majority of booking i.e 72.42% were not cancelled out of the total bookings.***\n",
        "***\n",
        "***The majority of people across both resort and city hotels did not cancel their bookings. This suggests that most guests are satisfied with their bookings or have reasons to stick to their plans.***"
      ],
      "metadata": {
        "id": "4jstXR6OYoAp"
      }
    },
    {
      "cell_type": "markdown",
      "source": [
        "##### 3. Will the gained insights help creating a positive business impact?\n",
        "Are there any insights that lead to negative growth? Justify with specific reason."
      ],
      "metadata": {
        "id": "RoGjAbkUYoAp"
      }
    },
    {
      "cell_type": "markdown",
      "source": [
        "***--This insight is valuable for understanding the overall cancellation behavior in your dataset and could inform strategies for managing booking cancellations in the future.We must also analysis the factors that causing cancellation and reduce them to reduce the rate of cancellation.***\n",
        "***\n",
        "***Offer incentives for guests to keep their bookings, such as discounts on additional services or future stays. This can encourage guests to maintain their reservations even if their plans change.***\n",
        "***\n",
        "***Provide excellent customer service throughout the booking process and stay. A positive experience can increase guest satisfaction and reduce the likelihood of cancellations.***\n",
        "***\n",
        "***Encourage guests to provide feedback and reviews after their stay. This can help identify areas for improvement and enhance the overall guest experience, reducing the likelihood of cancellations in the future.***\n",
        "\n",
        "\n",
        "\n",
        "\n",
        "\n"
      ],
      "metadata": {
        "id": "zfJ8IqMcYoAp"
      }
    },
    {
      "cell_type": "markdown",
      "source": [
        "# (Chart - 4) Cancellation rate in City hotel Vs Resort Hotel"
      ],
      "metadata": {
        "id": "4Of9eVA-YrdM"
      }
    },
    {
      "cell_type": "code",
      "source": [
        "# Chart - 4 visualization code\n",
        "plt.figure(figsize=(8,5))\n",
        "sns.countplot(data=newdf,x='hotel',hue='is_canceled',palette=['lightgreen','orange'])\n",
        "plt.legend(['Not Cancelled','Cancelled'])\n",
        "plt.title(\"Cancellation rate in City hotel VS Resort hotel \")\n",
        "plt.show()"
      ],
      "metadata": {
        "id": "irlUoxc8YrdO"
      },
      "execution_count": null,
      "outputs": []
    },
    {
      "cell_type": "markdown",
      "source": [
        "##### 1. Why did you pick the specific chart?"
      ],
      "metadata": {
        "id": "iky9q4vBYrdO"
      }
    },
    {
      "cell_type": "markdown",
      "source": [
        "***--This chart preferred to find out the frequency of each and every category of dataset.***\n",
        "***It counts the variables in the dataset.***"
      ],
      "metadata": {
        "id": "aJRCwT6DYrdO"
      }
    },
    {
      "cell_type": "markdown",
      "source": [
        "##### 2. What is/are the insight(s) found from the chart?"
      ],
      "metadata": {
        "id": "F6T5p64dYrdO"
      }
    },
    {
      "cell_type": "markdown",
      "source": [
        "**--From this chart we visualize that majority of the people had not cancelled the booking either in resort or city hotels.**\n",
        "* ***Resort hotel:Cancellation rate in resort hotel is comparative less than city hotel which shows that people did not liking to cancel their booking.This could indicate that guests booking resort hotels are more committed to their reservations, possibly due to the nature of resort stays or the types of guests they attract.***\n",
        "***\n",
        " * ***City hotel:City hotels have higher cancellation rate than resort hotel.It might suggest that there may be some factors that will be responsible for leading the higher cancellation,such as business travelers changing plans, last-minute changes in itinerary, or the availability of a wider range of accommodation options in urban areas, making it easier for guests to switch hotels.***\n"
      ],
      "metadata": {
        "id": "Xx8WAJvtYrdO"
      }
    },
    {
      "cell_type": "markdown",
      "source": [
        "##### 3. Will the gained insights help creating a positive business impact?\n",
        "Are there any insights that lead to negative growth? Justify with specific reason."
      ],
      "metadata": {
        "id": "y-Ehk30pYrdP"
      }
    },
    {
      "cell_type": "markdown",
      "source": [
        "***To reduce cancellations, city hotels may need to analyze these factors and implement strategies to increase booking commitment. This could include offering more flexible cancellation policies, providing incentives for early bookings, or improving the overall guest experience to encourage guests to stick to their plans.***"
      ],
      "metadata": {
        "id": "jLNxxz7MYrdP"
      }
    },
    {
      "cell_type": "markdown",
      "source": [
        "# (Chart - 5) Most Popular market Segment...\n",
        "\n"
      ],
      "metadata": {
        "id": "bamQiAODYuh1"
      }
    },
    {
      "cell_type": "code",
      "source": [
        "# Chart - 5 visualization code\n",
        "sns.barplot(newdf['market_segment'],palette=['lightgreen','lightblue','cyan','pink'])\n",
        "plt.title(\"Booking per Market segment\")\n",
        "plt.show()"
      ],
      "metadata": {
        "id": "TIJwrbroYuh3"
      },
      "execution_count": null,
      "outputs": []
    },
    {
      "cell_type": "markdown",
      "source": [
        "##### 1. Why did you pick the specific chart?"
      ],
      "metadata": {
        "id": "QHF8YVU7Yuh3"
      }
    },
    {
      "cell_type": "markdown",
      "source": [
        "***--This chart is chosen as it can compare the values of different categories in the dataset.***\n"
      ],
      "metadata": {
        "id": "dcxuIMRPYuh3"
      }
    },
    {
      "cell_type": "markdown",
      "source": [
        "##### 2. What is/are the insight(s) found from the chart?"
      ],
      "metadata": {
        "id": "GwzvFGzlYuh3"
      }
    },
    {
      "cell_type": "markdown",
      "source": [
        "***--In this visualization its clearly seems that  Aviation is the major market segment where most bookings were done followed by complemetary,online TA etc where as\n",
        "Groups is least segment.***\n",
        "***\n",
        "***Aviation segment: As it is major segment,it indicating that a significant portion of bookings is attributed to travelers associated with the aviation industry. This could include airline crew, aviation staff, or passengers on layovers.***\n",
        "***\n",
        "***Complementary Segment: The complementary segment, which likely includes bookings that are complementary to other services or events, such as package deals or event-related bookings, is the second most significant segment.***\n",
        "***\n",
        "***Online Travel Agencies (TA): Bookings through online travel agencies (TA) are also prominent, suggesting that a considerable number of guests prefer to book through these platforms. This could indicate the importance of online presence and partnerships with TAs for hotel bookings.***\n",
        "***\n",
        "***Groups Segment: The groups segment is the least significant, indicating that group bookings, such as those for conferences, events, or tours, make up a smaller portion of overall bookings. This could have implications for marketing strategies and targeted promotions to attract more group bookings.***\n"
      ],
      "metadata": {
        "id": "uyqkiB8YYuh3"
      }
    },
    {
      "cell_type": "markdown",
      "source": [
        "##### 3. Will the gained insights help creating a positive business impact?\n",
        "Are there any insights that lead to negative growth? Justify with specific reason."
      ],
      "metadata": {
        "id": "qYpmQ266Yuh3"
      }
    },
    {
      "cell_type": "markdown",
      "source": [
        "***--It illustrates the distribution of booking across the different segment.It also show the popularity of segment among the guests.***\n",
        "***\n",
        "***Understanding the distribution of bookings across different market segments can help tailor marketing strategies to target specific segments more effectively. For example, focusing on partnerships with aviation companies or online TAs to increase bookings from these segments.***"
      ],
      "metadata": {
        "id": "_WtzZ_hCYuh4"
      }
    },
    {
      "cell_type": "markdown",
      "source": [
        "# (Chart - 6) Lets see which type of room people prefer and which room get assigned."
      ],
      "metadata": {
        "id": "OH-pJp9IphqM"
      }
    },
    {
      "cell_type": "code",
      "source": [
        "# Chart - 6 visualization code\n",
        "cols3=['lightblue','lightgreen','yellow','brown','pink','orange','grey','red','blue','black']\n",
        "plt.figure(figsize=(8,5))\n",
        "sns.countplot(x=newdf['reserved_room_type'],palette=cols3)\n",
        "plt.title(\"Reserved room\")\n",
        "plt.show()\n",
        "\n",
        "\n",
        "plt.figure(figsize=(8,5))\n",
        "sns.countplot(x=newdf['assigned_room_type'],palette=cols3)\n",
        "plt.title(\"Assigned room\")\n",
        "plt.show()\n"
      ],
      "metadata": {
        "id": "kuRf4wtuphqN"
      },
      "execution_count": null,
      "outputs": []
    },
    {
      "cell_type": "markdown",
      "source": [
        "##### 1. Why did you pick the specific chart?"
      ],
      "metadata": {
        "id": "bbFf2-_FphqN"
      }
    },
    {
      "cell_type": "markdown",
      "source": [
        "***--This visualization shows the count of each type of room reserved or assigned in the data***"
      ],
      "metadata": {
        "id": "loh7H2nzphqN"
      }
    },
    {
      "cell_type": "markdown",
      "source": [
        "##### 2. What is/are the insight(s) found from the chart?"
      ],
      "metadata": {
        "id": "_ouA3fa0phqN"
      }
    },
    {
      "cell_type": "markdown",
      "source": [
        "***-- We found the insights that most of the people reserved the 'A' type room and mostly get assigned,after that D,E and so on.***\n",
        "***None of the people reserved the 'L' and 'P' type room.***\n",
        "***We also found that 'I' and 'K' type of room are also get assigned which are not reserved by anyone.***\n",
        "***\n",
        "***The fact that most people reserve and are assigned 'A' type rooms suggests that this room type is popular among guests. This could be due to various factors such as room size, amenities, location within the hotel, or pricing.***\n",
        "***\n",
        "***The observation that 'I' and 'K' type rooms are assigned but not reserved indicates a potential discrepancy between room demand and reservation patterns. These room types may be more popular among guests than initially anticipated, suggesting that the hotel could consider adjusting its room allocation strategy to meet this demand.***\n",
        "***\n",
        "***The fact that 'L' and 'P' type rooms are neither reserved nor assigned suggests that these room types may be less desirable to guests. The hotel could explore reasons for this, such as room condition, location within the hotel, or pricing, and consider strategies to make these rooms more appealing or adjust their availability.***\n"
      ],
      "metadata": {
        "id": "VECbqPI7phqN"
      }
    },
    {
      "cell_type": "markdown",
      "source": [
        "##### 3. Will the gained insights help creating a positive business impact?\n",
        "Are there any insights that lead to negative growth? Justify with specific reason."
      ],
      "metadata": {
        "id": "Seke61FWphqN"
      }
    },
    {
      "cell_type": "markdown",
      "source": [
        "***Understanding room reservation and assignment patterns can help the hotel improve its inventory management. By analyzing which room types are most in demand and which are underutilized, the hotel can optimize its room allocation strategy to maximize revenue and guest satisfaction.***\n",
        "***\n",
        "***The popularity of certain room types could also inform the hotel's pricing strategy. Rooms that are in high demand could be priced higher, while less popular room types could be offered at discounted rates to increase their attractiveness to guests.***\n",
        "***\n",
        "***Ensuring that guests are assigned their preferred room types, when available, can enhance the overall guest experience. This could lead to higher guest satisfaction and potentially increase repeat bookings and positive reviews.***"
      ],
      "metadata": {
        "id": "x67XGWsAwoF4"
      }
    },
    {
      "cell_type": "markdown",
      "source": [
        "# (Chart - 7) In Which month most of the customers visit to hotel?"
      ],
      "metadata": {
        "id": "PIIx-8_IphqN"
      }
    },
    {
      "cell_type": "code",
      "source": [
        "# Chart - 7 visualization code\n",
        "month=newdf['arrival_date_month'].value_counts()\n",
        "sns.countplot(x=newdf['arrival_date_month'],hue=newdf['hotel'],palette=['lightgreen','pink'])\n",
        "plt.xticks(rotation=90)\n",
        "plt.title(\"Most preferred Month\")\n",
        "plt.show()"
      ],
      "metadata": {
        "id": "lqAIGUfyphqO"
      },
      "execution_count": null,
      "outputs": []
    },
    {
      "cell_type": "markdown",
      "source": [
        "##### 1. Why did you pick the specific chart?"
      ],
      "metadata": {
        "id": "t27r6nlMphqO"
      }
    },
    {
      "cell_type": "markdown",
      "source": [
        "***--This chart is better to count the occurence of the categorical data in the form of bars.In this we are finding in which month maximun visiting are there to the hotel.***"
      ],
      "metadata": {
        "id": "iv6ro40sphqO"
      }
    },
    {
      "cell_type": "markdown",
      "source": [
        "##### 2. What is/are the insight(s) found from the chart?"
      ],
      "metadata": {
        "id": "r2jJGEOYphqO"
      }
    },
    {
      "cell_type": "markdown",
      "source": [
        "***--We found that most of the people like to visit in the month of July and August and least prefer January month for both type of hotel i.e city hotel and resort hotel.***\n",
        "***\n",
        "***Knowing the peak months allows the business to focus its marketing efforts and promotions during these times to attract more guests. Special packages or events tailored to these months can be highly effective.***\n",
        "***\n",
        "***Dependence on peak seasons like July and August can lead to seasonal fluctuations in revenue. During off-peak months such as The least preferred month, January, indicates a potential need for strategies to attract guests during this period. This could include offering discounts, promotions, or special events to increase bookings.***"
      ],
      "metadata": {
        "id": "Po6ZPi4hphqO"
      }
    },
    {
      "cell_type": "markdown",
      "source": [
        "##### 3. Will the gained insights help creating a positive business impact?\n",
        "Are there any insights that lead to negative growth? Justify with specific reason."
      ],
      "metadata": {
        "id": "b0JNsNcRphqO"
      }
    },
    {
      "cell_type": "markdown",
      "source": [
        "***--Yes it will create a positive impact as Understanding the seasonal preferences can help in revenue management strategies. For example, during peak months, hotels can adjust their pricing strategies to maximize revenue, while during off-peak months, they can offer incentives to attract guests.\n",
        " we know that people prefer july and august month for a visit ,so we can give different offers(like membership card,discount for the visitors who came 2 times,some complimentory meal, etc) and make better arrangement for the visitors (more cleaniness,better appliances,better services,etc) so that it create a good impact on the visitors so that they prefer and suggest the hotel and visit again.This might help to grow our business.***"
      ],
      "metadata": {
        "id": "xvSq8iUTphqO"
      }
    },
    {
      "cell_type": "markdown",
      "source": [
        "# (Chart - 8) How many cancellation are there per year??"
      ],
      "metadata": {
        "id": "BZR9WyysphqO"
      }
    },
    {
      "cell_type": "code",
      "source": [
        "cancelyear=newdf['is_canceled'].value_counts()\n",
        "cancelyear"
      ],
      "metadata": {
        "id": "Mo-Jfq8xGEJ5"
      },
      "execution_count": null,
      "outputs": []
    },
    {
      "cell_type": "code",
      "source": [
        "# Chart - 8 visualization code\n",
        "\n",
        "sns.countplot(x=newdf['arrival_date_year'],hue=newdf['is_canceled'],palette=['green','red'])\n",
        "plt.show()"
      ],
      "metadata": {
        "id": "TdPTWpAVphqO"
      },
      "execution_count": null,
      "outputs": []
    },
    {
      "cell_type": "markdown",
      "source": [
        "##### 1. Why did you pick the specific chart?"
      ],
      "metadata": {
        "id": "jj7wYXLtphqO"
      }
    },
    {
      "cell_type": "markdown",
      "source": [
        "***--This chart is used to find how many cancellation were  made per year and also show the comparsion of cancel and not cancel per year.It give the count of cancel and not cancel bookings of each year.***"
      ],
      "metadata": {
        "id": "Ob8u6rCTphqO"
      }
    },
    {
      "cell_type": "markdown",
      "source": [
        "##### 2. What is/are the insight(s) found from the chart?"
      ],
      "metadata": {
        "id": "eZrbJ2SmphqO"
      }
    },
    {
      "cell_type": "markdown",
      "source": [
        "***--It seems that in 2016 maximum booking were made out of all three year.There is maximum cancellation too in this year.Least booking were done in 2015 which also has minimum amount of cancellation.***\n",
        "***\n",
        "***--It also seems that there is a large increment from 2015 to 2016 but from 2016 to 2017 there is decrement in the booking.***\n",
        "***\n",
        "***The observation that 2016 had the maximum bookings and also the maximum cancellations suggests a potential correlation between booking volume and cancellation rates. This could indicate that external factors or market conditions in 2016 may have influenced both booking behavior and cancellations.***\n",
        "***\n",
        "\n"
      ],
      "metadata": {
        "id": "mZtgC_hjphqO"
      }
    },
    {
      "cell_type": "markdown",
      "source": [
        "##### 3. Will the gained insights help creating a positive business impact?\n",
        "Are there any insights that lead to negative growth? Justify with specific reason."
      ],
      "metadata": {
        "id": "rFu4xreNphqO"
      }
    },
    {
      "cell_type": "markdown",
      "source": [
        "***--There is a positive impact from 2015 to 2016 but had a negative impact from 2016 to 2017 that is point need to be concerned and should verify which factors causing a fall.Understanding the reasons behind the fluctuations in booking and cancellation rates can provide insights into customer behavior and preferences. This can help the business tailor its offerings and services to better meet customer needs and reduce cancellations.***"
      ],
      "metadata": {
        "id": "ey_0qi68phqO"
      }
    },
    {
      "cell_type": "markdown",
      "source": [
        "# (Chart - 9) Which deposit type prefer by the customers?"
      ],
      "metadata": {
        "id": "YJ55k-q6phqO"
      }
    },
    {
      "cell_type": "code",
      "source": [
        "# Chart - 9 visualization code\n",
        "sns.countplot(x=newdf['deposit_type'],palette=['turquoise','coral','olive'])\n",
        "plt.title(\"Cancellation per year\")\n",
        "plt.title(\"Deposit Type\")\n",
        "plt.show()"
      ],
      "metadata": {
        "id": "B2aS4O1ophqO"
      },
      "execution_count": null,
      "outputs": []
    },
    {
      "cell_type": "markdown",
      "source": [
        "##### 1. Why did you pick the specific chart?"
      ],
      "metadata": {
        "id": "gCFgpxoyphqP"
      }
    },
    {
      "cell_type": "markdown",
      "source": [
        "***--The chart we've selected visualizes the count of different deposit types using a count plot. This type of plot is suitable for categorical data and provides a clear overview of the distribution of deposit types in the dataset.***"
      ],
      "metadata": {
        "id": "TVxDimi2phqP"
      }
    },
    {
      "cell_type": "markdown",
      "source": [
        "##### 2. What is/are the insight(s) found from the chart?"
      ],
      "metadata": {
        "id": "OVtJsKN_phqQ"
      }
    },
    {
      "cell_type": "markdown",
      "source": [
        "***--We can observe the frequency of each deposit type, which helps in understanding the preferred deposit methods among customers. By analyzing the distribution, we can identify which deposit type is most commonly used or if there's a significant imbalance among the different deposit types.***\n",
        "***\n",
        "***As we can see the deposit type, No deposit is taken from the customer while booking this might be why the booking gets cancelled.***\n",
        "***\n",
        " ***The observation that \"No deposit\" is taken from the customer while booking suggests a possible link between this deposit type and cancellations. Customers may be more likely to cancel bookings for which no deposit is required, as there is no financial commitment involved.***\n"
      ],
      "metadata": {
        "id": "ngGi97qjphqQ"
      }
    },
    {
      "cell_type": "markdown",
      "source": [
        "##### 3. Will the gained insights help creating a positive business impact?\n",
        "Are there any insights that lead to negative growth? Justify with specific reason."
      ],
      "metadata": {
        "id": "lssrdh5qphqQ"
      }
    },
    {
      "cell_type": "markdown",
      "source": [
        "***By analyzing the frequency of each deposit type, the business can understand which deposit methods are most commonly used by customers. This can help in tailoring payment options and policies to better suit customer preferences.***\n",
        "***\n",
        "***Understanding the impact of different deposit types on cancellations can have revenue implications. The business may consider implementing deposit policies for certain types of bookings to reduce cancellations and secure revenue.***"
      ],
      "metadata": {
        "id": "tBpY5ekJphqQ"
      }
    },
    {
      "cell_type": "markdown",
      "source": [
        "# (Chart - 10) By which country cancellation rate is more?"
      ],
      "metadata": {
        "id": "U2RJ9gkRphqQ"
      }
    },
    {
      "cell_type": "code",
      "source": [
        "# Chart - 10 visualization code\n",
        "plt.figure(figsize=(8,8))\n",
        "top=newdf['country'].value_counts()[:10]\n",
        "plt.pie(top,autopct='%1.1f%%',labels=top.index)\n",
        "plt.title(\"Country with cancelled booking(top 10)\")\n",
        "plt.show()"
      ],
      "metadata": {
        "id": "GM7a4YP4phqQ"
      },
      "execution_count": null,
      "outputs": []
    },
    {
      "cell_type": "markdown",
      "source": [
        "##### 1. Why did you pick the specific chart?"
      ],
      "metadata": {
        "id": "1M8mcRywphqQ"
      }
    },
    {
      "cell_type": "markdown",
      "source": [
        "***-- The pie is choosen to visualize the distribution of cancelled booking from the different country (top 10).This chart effectively show the proportion of cancellation from each country relative to total number of cancelled bookings.***"
      ],
      "metadata": {
        "id": "8agQvks0phqQ"
      }
    },
    {
      "cell_type": "markdown",
      "source": [
        "##### 2. What is/are the insight(s) found from the chart?"
      ],
      "metadata": {
        "id": "tgIPom80phqQ"
      }
    },
    {
      "cell_type": "markdown",
      "source": [
        "***--We found the insights that 38.4% of cancellation were done from the Portugal(PRT) followed by the United Kingdom of Great Britian (GBR)14.6% and 12.4%France (FRA).***"
      ],
      "metadata": {
        "id": "Qp13pnNzphqQ"
      }
    },
    {
      "cell_type": "markdown",
      "source": [
        "##### 3. Will the gained insights help creating a positive business impact?\n",
        "Are there any insights that lead to negative growth? Justify with specific reason."
      ],
      "metadata": {
        "id": "JMzcOPDDphqR"
      }
    },
    {
      "cell_type": "markdown",
      "source": [
        "***--We overview from the insight that which country had done maximum cancelled bookings and could explore the reason behind the cancellation rate from specific countries which might create an positive impact on our business and also reduce the rate of cancellation.***\n",
        "***\n",
        "***Understanding cancellation patterns by country can help the business tailor its marketing and promotional strategies to different market segments. For example, offering targeted promotions or flexible cancellation policies to customers from countries with higher cancellation rates may help reduce cancellations.***\n",
        "***\n",
        "***High cancellation rates from certain countries can have revenue implications. The business may need to adjust pricing strategies or implement measures to reduce cancellations, such as requiring deposits or offering incentives for non-cancellable bookings.***\n"
      ],
      "metadata": {
        "id": "R4Ka1PC2phqR"
      }
    },
    {
      "cell_type": "markdown",
      "source": [
        "# (Chart - 11) Lets check which type of customers visits more?"
      ],
      "metadata": {
        "id": "x-EpHcCOp1ci"
      }
    },
    {
      "cell_type": "code",
      "source": [
        "# Chart - 11 visualization code\n",
        "sns.countplot(x=newdf['customer_type'],palette=['teal','yellow','coral','olive'])\n",
        "plt.title(\"Type of Customers\")\n",
        "plt.show()\n"
      ],
      "metadata": {
        "id": "mAQTIvtqp1cj"
      },
      "execution_count": null,
      "outputs": []
    },
    {
      "cell_type": "markdown",
      "source": [
        "##### 1. Why did you pick the specific chart?"
      ],
      "metadata": {
        "id": "X_VqEhTip1ck"
      }
    },
    {
      "cell_type": "markdown",
      "source": [
        "***--This specific chart visualize the frequency of different type of customers visiting to the hotel.It show the frequency in the form bars of each customer type along the x axis.***"
      ],
      "metadata": {
        "id": "-vsMzt_np1ck"
      }
    },
    {
      "cell_type": "markdown",
      "source": [
        "##### 2. What is/are the insight(s) found from the chart?"
      ],
      "metadata": {
        "id": "8zGJKyg5p1ck"
      }
    },
    {
      "cell_type": "markdown",
      "source": [
        "***--We observe that mostly transient type of customer like to  visit to hotel which stay for a short time followed by transient party ,contract and the least group.***\n",
        "***\n",
        "***Transient Customers: The observation that transient customers, who stay for a short time, are the most common type of customer visit suggests that the hotel may cater primarily to short-stay guests. This could have implications for pricing, room turnover, and service offerings tailored to this customer segment.***\n",
        "***\n",
        "***Transient Party: The transient party segment, which likely includes guests visiting for events or parties, is the second most common type of customer visit. Understanding the needs and preferences of this segment can help the hotel tailor its offerings and services for event-related bookings.***\n",
        "***\n",
        "***Contract and Group: The lower frequency of contract and group visits suggests that these segments may not be as prominent in the hotel's customer base. The business may consider strategies to attract more contract and group bookings, such as offering group discounts or packages tailored to these segments.***\n"
      ],
      "metadata": {
        "id": "ZYdMsrqVp1ck"
      }
    },
    {
      "cell_type": "markdown",
      "source": [
        "##### 3. Will the gained insights help creating a positive business impact?\n",
        "Are there any insights that lead to negative growth? Justify with specific reason."
      ],
      "metadata": {
        "id": "PVzmfK_Ep1ck"
      }
    },
    {
      "cell_type": "markdown",
      "source": [
        "***-- Since transient customers may not have a long-standing relationship with the business, there might be a need to focus on quick, efficient, and convenient services to cater to their needs. This could include streamlined booking processes, fast check-ins, and responsive customer service.***\n",
        "***\n",
        "***Understanding the distribution of customer visit types can help the business optimize its revenue management strategies too by offering dynamic pricing for transient customers based on demand patterns or adjusting room availability for transient party bookings during peak event seasons.***"
      ],
      "metadata": {
        "id": "druuKYZpp1ck"
      }
    },
    {
      "cell_type": "markdown",
      "source": [
        "# (Chart - 12)Let see  which is hightest distribution of channel?"
      ],
      "metadata": {
        "id": "n3dbpmDWp1ck"
      }
    },
    {
      "cell_type": "code",
      "source": [
        "# Chart - 12 visualization code\n",
        "sns.countplot(x=newdf['distribution_channel'],hue=newdf['arrival_date_year'])\n",
        "plt.title(\"Distribution of channel per year\")\n",
        "plt.show()"
      ],
      "metadata": {
        "id": "bwevp1tKp1ck"
      },
      "execution_count": null,
      "outputs": []
    },
    {
      "cell_type": "markdown",
      "source": [
        "##### 1. Why did you pick the specific chart?"
      ],
      "metadata": {
        "id": "ylSl6qgtp1ck"
      }
    },
    {
      "cell_type": "markdown",
      "source": [
        "***--Count plots provide a clear visual representation of the distribution of bookings across different channels. Each bar in the plot represents the count of bookings for a specific channel, making it easy to interpret and compare.Count plots allow for easy comparison between different channels. By visually comparing the heights of the bars, viewers can quickly identify which channels have the highest and lowest counts of bookings.***\n",
        "\n",
        "***--A count plot, which is essentially a histogram showing the counts of observations in each categorical bin, is a good option for visualizing the distribution of hotel bookings across different channels.***"
      ],
      "metadata": {
        "id": "m2xqNkiQp1ck"
      }
    },
    {
      "cell_type": "markdown",
      "source": [
        "##### 2. What is/are the insight(s) found from the chart?"
      ],
      "metadata": {
        "id": "ZWILFDl5p1ck"
      }
    },
    {
      "cell_type": "markdown",
      "source": [
        "***-- We visualize that most of the booking comes from the travel agencies and tour operators followed by the direct,contract channels.Highest Booking by TA/TO were done in the 2016.Least Amount of booking out of the total bookings were done by Global Distribution System (GDS).***"
      ],
      "metadata": {
        "id": "x-lUsV2mp1ck"
      }
    },
    {
      "cell_type": "markdown",
      "source": [
        "##### 3. Will the gained insights help creating a positive business impact?\n",
        "Are there any insights that lead to negative growth? Justify with specific reason."
      ],
      "metadata": {
        "id": "M7G43BXep1ck"
      }
    },
    {
      "cell_type": "markdown",
      "source": [
        "***--This insight can be valuable for marketing strategies and partnership decisions.It indicates the effectiveness of partnerships with travel agencies or tour operators. If a large portion of bookings come from this channel, it might signify strong relationships or successful collaborations with these entities. Understanding which channels contribute the most to revenue can help in allocating resources effectively and optimizing marketing budgets.***"
      ],
      "metadata": {
        "id": "5wwDJXsLp1cl"
      }
    },
    {
      "cell_type": "markdown",
      "source": [
        "# (Chart - 13) Which type of hotel experience greater changes?"
      ],
      "metadata": {
        "id": "Ag9LCva-p1cl"
      }
    },
    {
      "cell_type": "code",
      "source": [
        "# Chart - 13 visualization code\n",
        "sns.barplot(y=newdf['booking_changes'],hue=newdf['hotel'],palette=['orange','seagreen'])\n",
        "plt.title(\"Changes in hotel bookings\")\n",
        "plt.show()"
      ],
      "metadata": {
        "id": "EUfxeq9-p1cl"
      },
      "execution_count": null,
      "outputs": []
    },
    {
      "cell_type": "markdown",
      "source": [
        "##### 1. Why did you pick the specific chart?"
      ],
      "metadata": {
        "id": "E6MkPsBcp1cl"
      }
    },
    {
      "cell_type": "markdown",
      "source": [
        "***--This chart allow  the clear comparison of changes between the city hotel and resort hotel.The longer bar indicates the most significant changes done in the hotel. Bar charts are intuitive and familiar to most people, making them easy to interpret without requiring extensive explanation or additional context.***"
      ],
      "metadata": {
        "id": "V22bRsFWp1cl"
      }
    },
    {
      "cell_type": "markdown",
      "source": [
        "##### 2. What is/are the insight(s) found from the chart?"
      ],
      "metadata": {
        "id": "2cELzS2fp1cl"
      }
    },
    {
      "cell_type": "markdown",
      "source": [
        "***-- We clearly viualize that maximum changes were done in the resort hotel compare to city hotel.***"
      ],
      "metadata": {
        "id": "ozQPc2_Ip1cl"
      }
    },
    {
      "cell_type": "markdown",
      "source": [
        "##### 3. Will the gained insights help creating a positive business impact?\n",
        "Are there any insights that lead to negative growth? Justify with specific reason."
      ],
      "metadata": {
        "id": "3MPXvC8up1cl"
      }
    },
    {
      "cell_type": "markdown",
      "source": [
        "***--This insights might be helpful in marketing strategies and planning budget.Financial plans or budget can be updated according to the changes made.Management may conduct a detailed analysis to understand why the resort hotel experienced greater changes and how these changes have affected key performance indicators such as occupancy rates, revenue, and customer satisfaction.Effort would be made to engage with customer and gather feedback from them to better understand their preferences and expectation.***"
      ],
      "metadata": {
        "id": "GL8l1tdLp1cl"
      }
    },
    {
      "cell_type": "markdown",
      "source": [
        "# (Chart - 14) - Correlation Heatmap"
      ],
      "metadata": {
        "id": "NC_X3p0fY2L0"
      }
    },
    {
      "cell_type": "code",
      "source": [
        "# Correlation Heatmap visualization code\n",
        "continous_data=newdf.select_dtypes(include='number',exclude='object')\n",
        "cd=continous_data.columns\n",
        "cd"
      ],
      "metadata": {
        "id": "xyC9zolEZNRQ"
      },
      "execution_count": null,
      "outputs": []
    },
    {
      "cell_type": "code",
      "source": [
        "plt.figure(figsize=(10,10))\n",
        "sns.heatmap(continous_data.corr(),annot=True,fmt='.2f',cmap='coolwarm')\n",
        "plt.title(\"Correlation Between Data\")\n",
        "plt.show()"
      ],
      "metadata": {
        "id": "LMpBuMeI3wdg"
      },
      "execution_count": null,
      "outputs": []
    },
    {
      "cell_type": "markdown",
      "source": [
        "##### 1. Why did you pick the specific chart?"
      ],
      "metadata": {
        "id": "UV0SzAkaZNRQ"
      }
    },
    {
      "cell_type": "markdown",
      "source": [
        "***--This chart is preferred to find out the correlation between the numerical features of the dataset.***\n",
        "\n",
        "***Heatmap is used to give relationship between the variables in the form of colours.***\n",
        "\n",
        "***This chart display the data as grid of coloured cell,each cell represent the correlation value of the data ranging from -1 to 1.***\n"
      ],
      "metadata": {
        "id": "DVPuT8LYZNRQ"
      }
    },
    {
      "cell_type": "markdown",
      "source": [
        "##### 2. What is/are the insight(s) found from the chart?"
      ],
      "metadata": {
        "id": "YPEH6qLeZNRQ"
      }
    },
    {
      "cell_type": "markdown",
      "source": [
        "***-- Positive correlation represented by positive value and both the value either increases or decreases with respect to co-relation and vice versa.***\n",
        "\n",
        "***Closer to 1 indicates stronger positive correlation.***\n",
        "\n",
        "***Closer to -1 indicates stronger negative correlation.***\n",
        "\n",
        "***Zero value indicates no correlation.***\n"
      ],
      "metadata": {
        "id": "bfSqtnDqZNRR"
      }
    },
    {
      "cell_type": "markdown",
      "source": [
        "# (Chart - 15)  Pair Plot"
      ],
      "metadata": {
        "id": "q29F0dvdveiT"
      }
    },
    {
      "cell_type": "code",
      "source": [
        "# Pair Plot visualization code\n",
        "sns.pairplot(newdf)\n",
        "plt.title(\"Pair Plot of the Hotel Bookings\")\n",
        "plt.show()"
      ],
      "metadata": {
        "id": "o58-TEIhveiU"
      },
      "execution_count": null,
      "outputs": []
    },
    {
      "cell_type": "markdown",
      "source": [
        "##### 1. Why did you pick the specific chart?"
      ],
      "metadata": {
        "id": "EXh0U9oCveiU"
      }
    },
    {
      "cell_type": "markdown",
      "source": [
        "***--Pair Plot give the overall relationship between the two data point.It also represent the relationship between the each and every variable of the dataset.It show the relation in form of plot which are arranged in grid form.***"
      ],
      "metadata": {
        "id": "eMmPjTByveiU"
      }
    },
    {
      "cell_type": "markdown",
      "source": [
        "##### 2. What is/are the insight(s) found from the chart?"
      ],
      "metadata": {
        "id": "22aHeOlLveiV"
      }
    },
    {
      "cell_type": "markdown",
      "source": [
        "***-- The plot show scatterplots between the each numerical variable of the dataset.Each scatterplot give the insights of the relationship between the two variables.***\n",
        "***\n",
        "***The diagonal of a pair plot is where each variable is compared to itself, so instead of showing a scatterplot (which wouldn't make sense for a variable compared to itself), a histogram is used to visualize the distribution of that variable. This allows you to see the spread and shape of each variable's distribution, which can be useful for understanding the underlying data and identifying potential issues like skewness, multimodality, or outliers.***"
      ],
      "metadata": {
        "id": "uPQ8RGwHveiV"
      }
    },
    {
      "cell_type": "markdown",
      "source": [
        "## **5. Solution to Business Objective**"
      ],
      "metadata": {
        "id": "JcMwzZxoAimU"
      }
    },
    {
      "cell_type": "markdown",
      "source": [
        "#### What do you suggest the client to achieve Business Objective ?\n",
        "Explain Briefly."
      ],
      "metadata": {
        "id": "8G2x9gOozGDZ"
      }
    },
    {
      "cell_type": "markdown",
      "source": [
        "**1.Average Lead Time: Since resort hotels have the highest average lead time and it's increasing per year, the client could focus on marketing strategies that target early planners, such as offering early booking discounts or promoting the benefits of booking in advance.**\n",
        "\n",
        "**2.Hotel Preference by City: Given that city hotels are more preferred than resort hotels, the client could consider investing more in city hotel amenities and services or expanding their city hotel offerings.**\n",
        "\n",
        "**3.Booking Cancellation Proportions: Since the majority of bookings are not canceled, the client could emphasize this reliability factor in their marketing to attract more customers. They could also consider implementing flexible cancellation policies to appeal to more cautious bookers.**\n",
        "\n",
        "**4.Cancellation Rates in City Hotel and Resort: Understanding the cancellation rates in different types of hotels can help the client tailor their booking policies. They could potentially adjust cancellation fees or offer incentives to reduce cancellations.**\n",
        "\n",
        "**5.Most Popular Market Segment (Aviation): Knowing that aviation is the most popular market segment could lead the client to explore partnerships or promotions targeting travelers who frequently use air travel.**\n",
        "\n",
        "**6.Preferred Booking Months: Since July and August are the most preferred months for booking, the client could focus their marketing efforts and offers during these periods. For January, which is the least preferred month, they could consider running promotions to attract more bookings during this slower period.**\n",
        "\n",
        "**7.Country with Maximum Cancellations (Portugal): For bookings from Portugal, the client could investigate the reasons behind the high cancellation rate and potentially tailor their offerings or marketing strategies for this market to reduce cancellations.**\n",
        "\n",
        "**8.Type of Customer Visit (Transient): Since transient customers visit more frequently, the client could focus on offering promotions or loyalty programs to encourage repeat visits and enhance customer loyalty among this segment.**\n",
        "\n",
        "**9.Distribution Channel Preferences (Travel Agencies/Operators): Given that travel agencies and operators are the highest distribution channels, the client could strengthen partnerships with these channels, offer them exclusive deals, or invest more in marketing through these channels to attract more customers.**\n",
        "\n",
        "**10.Hotel Changes (Resort vs. City): Since resort hotels have more changes than city hotels, the client could investigate the reasons behind these changes and work on strategies to reduce them. This could include improving reservation management systems, enhancing staff training, or offering more flexible booking options to reduce the need for changes.**\n",
        "\n",
        "\n",
        "\n",
        "\n"
      ],
      "metadata": {
        "id": "pASKb0qOza21"
      }
    },
    {
      "cell_type": "markdown",
      "source": [
        "# **Conclusion**"
      ],
      "metadata": {
        "id": "gCX9965dhzqZ"
      }
    },
    {
      "cell_type": "markdown",
      "source": [
        "**Booking trends**: The analysis show that the number of booking fluctuates throughout the year,with peak months July and August.This indicates seasonal variation in demand,which hotel can leverage to optimize pricing and markets strategies.\n",
        "\n",
        "**Customer behavior**:This analysis reveals that majority of booking were coming from Online Travel Agents(TA/TO).These channel were important for driving the booking and suggest that hotels must maintain the strong partnership wih these agents.As Transient type of customers visiting more so also suggest to have a quick and efficient management for building a strong relationship with the customers.\n",
        "\n",
        "**Cancellation Rate**:The analysis state that most of the cancellation were from Portugal,United State of Great Britian and France so need to found out the causing factors and provide more promotion,adjust pricing strategies or implement the measure that reduce the rate.\n",
        "\n",
        "**Preferences**:It also reveals the preferences of the customer either in hotel type or room type.We must provide the services keeping the preferences in mind to satisfy the customer so to get a positive feedback on which we can modify and strategies our business.\n",
        "\n"
      ],
      "metadata": {
        "id": "Fjb1IsQkh3yE"
      }
    },
    {
      "cell_type": "markdown",
      "source": [
        "### ***Hurrah! You have successfully completed your EDA Capstone Project !!!***"
      ],
      "metadata": {
        "id": "gIfDvo9L0UH2"
      }
    }
  ]
}